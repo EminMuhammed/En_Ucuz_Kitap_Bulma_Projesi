{
 "cells": [
  {
   "cell_type": "code",
   "execution_count": 4,
   "metadata": {},
   "outputs": [],
   "source": [
    "from bs4 import BeautifulSoup\n",
    "import requests\n",
    "from selenium import webdriver\n",
    "import time\n",
    "from selenium.webdriver.common.keys import Keys\n"
   ]
  },
  {
   "cell_type": "code",
   "execution_count": null,
   "metadata": {},
   "outputs": [],
   "source": []
  },
  {
   "cell_type": "code",
   "execution_count": 1,
   "metadata": {},
   "outputs": [],
   "source": [
    "#bkm drkitap kitapyurdu"
   ]
  },
  {
   "cell_type": "code",
   "execution_count": 68,
   "metadata": {},
   "outputs": [
    {
     "name": "stdout",
     "output_type": "stream",
     "text": [
      "Kitap adını giriniz : sefiller\n",
      "Yayınevini giriniz : iş bankası\n",
      "BKM KİTAP = Sefiller 2 Cilt Takım , İş Bankası Kültür Yayınları , Victor Hugo , 33,28\n",
      "KİTAP YURDU = Sefiller (2 Cilt) - (Karton Kapak) , Victor Hugo , TÜRKİYE İŞ BANKASI KÜLTÜR YAYINLARI , 33,80\n",
      "DR KİTAP = Sefiller - 2 Cilt Takım , İş Bankası Kültür Yayınları  - Hasan Ali Yücel Klasikler Dizisi , Victor Hugo , 33,80\n"
     ]
    }
   ],
   "source": [
    "driver_path = \"D:\\PROGRAM SETUP\\chromedriver.exe\"\n",
    "browser = webdriver.Chrome(driver_path)\n",
    "\n",
    "kitap_adi = input(\"Kitap adını giriniz : \")\n",
    "yayin_evi = input(\"Yayınevini giriniz : \")\n",
    "\n",
    "def bkm_kitap():\n",
    "    browser.get(\"https://www.google.com/\")\n",
    "\n",
    "    bkm_kitap_veri_girisi = browser.find_element_by_css_selector(\".gLFyf.gsfi\")\n",
    "    bkm_kitap_veri_girisi.send_keys(kitap_adi+ \" \"+ yayin_evi+ \" \"+\" site:bkmkitap.com\")\n",
    "    time.sleep(2)\n",
    "\n",
    "    bkm_kitap_veri_girisi.send_keys(Keys.ENTER)\n",
    "    time.sleep(2)\n",
    "\n",
    "    bkm_kitap_tikla = browser.find_element_by_xpath(\"//*[@id='rso']/div[1]/div/div[1]/a\")\n",
    "    bkm_kitap_tikla.click()\n",
    "\n",
    "    bkm_kitap_sayfa = browser.page_source\n",
    "    bkm_kitap_soup = BeautifulSoup(bkm_kitap_sayfa, \"lxml\")\n",
    "\n",
    "    bkm_kitap_bilgiler = bkm_kitap_soup.find(\"div\",attrs={\"id\":\"productInfo\"})\n",
    "\n",
    "    bkm_kitap_adi = bkm_kitap_bilgiler.find(\"h1\").text\n",
    "    bkm_kitap_yayin_evi = bkm_kitap_bilgiler.find(\"a\").text.strip()\n",
    "\n",
    "    bkm_kitap_yazar_adi = bkm_kitap_bilgiler.find(\"a\",attrs={\"id\":\"productModelText\"}).text.strip()\n",
    "\n",
    "    bkm_kitap_fiyat = bkm_kitap_soup.find(\"span\",attrs={\"class\":\"product-price\"}).text\n",
    "\n",
    "    print(\"BKM KİTAP = \"+ bkm_kitap_adi+ \" , \"+ bkm_kitap_yayin_evi+\" , \"+bkm_kitap_yazar_adi+\" , \"+bkm_kitap_fiyat)\n",
    "    \n",
    "def kitapyurdu():\n",
    "    browser.get(\"https://www.google.com/\")\n",
    "\n",
    "    kitapyurdu_veri_girisi = browser.find_element_by_css_selector(\".gLFyf.gsfi\")\n",
    "    kitapyurdu_veri_girisi.send_keys(kitap_adi+ \" \"+ yayin_evi+ \" \"+\" site:kitapyurdu.com\")\n",
    "    time.sleep(2)\n",
    "\n",
    "    kitapyurdu_veri_girisi.send_keys(Keys.ENTER)\n",
    "    time.sleep(2)\n",
    "\n",
    "    kitapyurdu_tikla = browser.find_element_by_xpath(\"//*[@id='rso']/div[1]/div/div[1]/a\")\n",
    "    kitapyurdu_tikla.click()\n",
    "\n",
    "    kitapyurdu_sayfa = browser.page_source\n",
    "    kitapyurdu_soup = BeautifulSoup(kitapyurdu_sayfa, \"lxml\")\n",
    "\n",
    "    kitapyurdu_kitap_adi = kitapyurdu_soup.find(\"h1\",attrs={\"class\":\"pr_header__heading\"}).text\n",
    "    kitapyurdu_yazar_adi = kitapyurdu_soup.find(\"a\",attrs={\"class\":\"pr_producers__link\"}).text.strip()\n",
    "    kitapyurdu_yayin_evi = kitapyurdu_soup.find(\"div\",attrs={\"class\":\"pr_producers__publisher\"}).text.strip()\n",
    "    kitapyurdu_fiyat = kitapyurdu_soup.find(\"div\",attrs={\"class\":\"price__item\"}).text.strip()\n",
    "\n",
    "\n",
    "    print(\"KİTAP YURDU = \"+ kitapyurdu_kitap_adi+\" , \"+kitapyurdu_yazar_adi+\" , \"+kitapyurdu_yayin_evi+\" , \"+kitapyurdu_fiyat)\n",
    "\n",
    "def dr_kitap():\n",
    "    browser.get(\"https://www.google.com/\")\n",
    "\n",
    "    dr_veri_girisi = browser.find_element_by_css_selector(\".gLFyf.gsfi\")\n",
    "    dr_veri_girisi.send_keys(kitap_adi+ \" \"+ yayin_evi+ \" \"+\" site:dr.com.tr\")\n",
    "    time.sleep(2)\n",
    "\n",
    "    dr_veri_girisi.send_keys(Keys.ENTER)\n",
    "    time.sleep(2)\n",
    "\n",
    "    dr_tikla = browser.find_element_by_xpath(\"//*[@id='rso']/div[1]/div/div[1]/a\")\n",
    "    dr_tikla.click()\n",
    "\n",
    "    dr_sayfa = browser.page_source\n",
    "\n",
    "    dr_soup = BeautifulSoup(dr_sayfa, \"lxml\")\n",
    "    dr_yazar_adi = dr_soup.find(\"span\",attrs={\"class\":\"name\"}).text\n",
    "    dr_yayin_evi = dr_soup.find(\"h2\").text\n",
    "    dr_kitap_adi  =dr_soup.find(\"h1\",attrs={\"class\":\"product-name\"}).text.strip()\n",
    "    dr_fiyat = dr_soup.find(\"span\",attrs={\"id\":\"salePrice\"}).text\n",
    "\n",
    "    print(\"DR KİTAP = \"+ dr_kitap_adi+\" , \"+dr_yayin_evi+\" , \"+dr_yazar_adi+\" , \"+dr_fiyat)\n",
    "\n",
    "bkm_kitap()\n",
    "kitapyurdu()\n",
    "dr_kitap()"
   ]
  },
  {
   "cell_type": "code",
   "execution_count": null,
   "metadata": {},
   "outputs": [],
   "source": []
  }
 ],
 "metadata": {
  "kernelspec": {
   "display_name": "Python 3",
   "language": "python",
   "name": "python3"
  },
  "language_info": {
   "codemirror_mode": {
    "name": "ipython",
    "version": 3
   },
   "file_extension": ".py",
   "mimetype": "text/x-python",
   "name": "python",
   "nbconvert_exporter": "python",
   "pygments_lexer": "ipython3",
   "version": "3.7.4"
  }
 },
 "nbformat": 4,
 "nbformat_minor": 2
}
